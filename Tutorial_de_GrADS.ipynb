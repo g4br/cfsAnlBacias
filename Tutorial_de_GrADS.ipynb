{
  "nbformat": 4,
  "nbformat_minor": 0,
  "metadata": {
    "colab": {
      "name": "Tutorial_de_GrADS.ipynb",
      "private_outputs": true,
      "provenance": [],
      "collapsed_sections": [],
      "include_colab_link": true
    },
    "kernelspec": {
      "name": "python3",
      "display_name": "Python 3"
    },
    "language_info": {
      "name": "python"
    }
  },
  "cells": [
    {
      "cell_type": "markdown",
      "metadata": {
        "id": "view-in-github",
        "colab_type": "text"
      },
      "source": [
        "<a href=\"https://colab.research.google.com/github/g4br/cfsAnlBacias/blob/main/Tutorial_de_GrADS.ipynb\" target=\"_parent\"><img src=\"https://colab.research.google.com/assets/colab-badge.svg\" alt=\"Open In Colab\"/></a>"
      ]
    },
    {
      "cell_type": "markdown",
      "metadata": {
        "id": "ZoTIUcqVM9DH"
      },
      "source": [
        "Aqui é instalado o GrADS para Ubuntu 18.04 com o comando apt\n",
        "É instalado o pacote cartopy (linhas de divisão entre paises)  e é feito uma instalação do pacote shapely a força para corrigir um bug no cartopy.\n"
      ]
    },
    {
      "cell_type": "code",
      "metadata": {
        "id": "m5sX-mH0P9E5"
      },
      "source": [
        "!apt install grads\n",
        "!pip install cartopy\n",
        "!pip install --no-binary shapely shapely --force\n"
      ],
      "execution_count": null,
      "outputs": []
    },
    {
      "cell_type": "markdown",
      "metadata": {
        "id": "EH8-DAFhNvPj"
      },
      "source": [
        "O comando git faz uma copia do programa py3grads do github\n",
        "\n"
      ]
    },
    {
      "cell_type": "code",
      "metadata": {
        "id": "JyESaJxAQJaC"
      },
      "source": [
        "!git clone https://github.com/meridionaljet/py3grads"
      ],
      "execution_count": null,
      "outputs": []
    },
    {
      "cell_type": "markdown",
      "metadata": {
        "id": "qFBKHaitOGtc"
      },
      "source": [
        "Vá no diretorio py3grads"
      ]
    },
    {
      "cell_type": "code",
      "metadata": {
        "id": "hQdyZb4bQOr4"
      },
      "source": [
        "%cd py3grads\n"
      ],
      "execution_count": null,
      "outputs": []
    },
    {
      "cell_type": "markdown",
      "metadata": {
        "id": "qFvjoulPOP1Q"
      },
      "source": [
        "Compila e instala o programa py3grads\n"
      ]
    },
    {
      "cell_type": "code",
      "metadata": {
        "id": "zgUnhrhZWarK"
      },
      "source": [
        "!python setup.py install"
      ],
      "execution_count": null,
      "outputs": []
    },
    {
      "cell_type": "markdown",
      "metadata": {
        "id": "SdbW-zYSOsud"
      },
      "source": [
        "Volta a diretorio de trabalho (/content) "
      ]
    },
    {
      "cell_type": "code",
      "metadata": {
        "id": "ff8o8R3vQ6IW"
      },
      "source": [
        "%cd .."
      ],
      "execution_count": null,
      "outputs": []
    },
    {
      "cell_type": "markdown",
      "metadata": {
        "id": "XQq3-lHeO3Z3"
      },
      "source": [
        "Use o programa wget para pegar o diretorio example.tar.gz no site do GrADS"
      ]
    },
    {
      "cell_type": "code",
      "metadata": {
        "id": "-Zv7w8b_WkQS"
      },
      "source": [
        "!wget ftp://cola.gmu.edu/grads/example.tar.gz"
      ],
      "execution_count": null,
      "outputs": []
    },
    {
      "cell_type": "markdown",
      "metadata": {
        "id": "6hzjp9O8PKQT"
      },
      "source": [
        "Descomprime o diretorio example.tar.gz"
      ]
    },
    {
      "cell_type": "code",
      "metadata": {
        "id": "RxobKlAsWnL5"
      },
      "source": [
        "!tar zxvf example.tar.gz"
      ],
      "execution_count": null,
      "outputs": []
    },
    {
      "cell_type": "markdown",
      "metadata": {
        "id": "JROHBPszPULv"
      },
      "source": [
        "Notar que:\n",
        "./model.ctl = contem o aquivo controle .ctl\n",
        "./model.dat = contem o aquivo de dados na forma binaria \n",
        "./tutorial = contem o aquivo com os comando usado no tutorial do GrADS"
      ]
    },
    {
      "cell_type": "markdown",
      "metadata": {
        "id": "uf9OrH75Pz7o"
      },
      "source": [
        "Agora use o pacote py3grads para emular o GrADS no %%python\n",
        "A vantagem de usar o py3grads em vez do python puro é levar ao %%python\n",
        "100% de aquivos conhecidos na meterologia"
      ]
    },
    {
      "cell_type": "code",
      "metadata": {
        "id": "3LrKM6oZQ-Hz"
      },
      "source": [
        "from py3grads import Grads \n",
        "ga = Grads(verbose=False) \n",
        "ga('open model.ctl') # abrindo o arquivo controle\n",
        "ga('q file 1') # mostrar as variáveis no arquivo controle"
      ],
      "execution_count": null,
      "outputs": []
    },
    {
      "cell_type": "code",
      "metadata": {
        "id": "xqXNJJcFT1LM"
      },
      "source": [
        "ga('set lon 0 360') #   sets longitude to 0 to 360  degrees West\n",
        "ga('set lat -90 90') #     sets latitude -90 to 90 degrees North\n",
        "ga('set t 1') # set tempo igual a 1\n",
        "ps=ga.exp('ps') #pegue a variavel ps = Surface Pressure\n",
        "lons = ga.exp('lon') # #pegue longitude\n",
        "lats = ga.exp('lat') # #pegue latitude\n",
        "[ps.min(),ps.max()] #mostre o valor menor e maior de ps"
      ],
      "execution_count": null,
      "outputs": []
    },
    {
      "cell_type": "markdown",
      "metadata": {
        "id": "8nilQWmZRszI"
      },
      "source": [
        "Agora use o cartopy e o matplotlib para plotar a variavel ps"
      ]
    },
    {
      "cell_type": "code",
      "metadata": {
        "id": "r_j_bDYEuG2L"
      },
      "source": [
        "import cartopy.crs as ccrs\n",
        "import matplotlib.pyplot as plt\n",
        "import numpy as np\n",
        "import warnings\n",
        "from shapely.errors import ShapelyDeprecationWarning\n",
        "warnings.filterwarnings(\"ignore\", category=ShapelyDeprecationWarning) \n",
        "plt.figure(figsize=(16,12)) # tamanho da figura\n",
        "ax=plt.axes(projection=ccrs.PlateCarree()) # set a projeção\n",
        "# plota em contornos [400,..104] com base no mapa de cores 'rainbow'\n",
        "c1=plt.contourf(lons, lats, ps,[400,500,600,700,800,900,950,970,1000,1010,1020,1030,1040],cmap='rainbow')\n",
        "# plota sobre o mapa acima com linhas com base no mapa de cores 'gray' para destacar\n",
        "c2=plt.contour(lons, lats, ps,[400,500,600,700,800,900,950,970,1000,1010,1020,1030,1040],cmap='gray',linewidths=1)\n",
        "#plot o mapa das linhas de costa.\n",
        "ax.coastlines(color='k')\n",
        "# plota a barra de cores\n",
        "plt.colorbar(c1,orientation='horizontal')\n",
        "#salva em arquivo\n",
        "plt.savefig('pressao_em_superficie.png')"
      ],
      "execution_count": null,
      "outputs": []
    },
    {
      "cell_type": "code",
      "metadata": {
        "id": "6eqvGHioOBU2"
      },
      "source": [
        "ga('set lon -90') #   sets longitude to 90 degrees West\n",
        "ga('set lat 40') #     sets latitude to 40 degrees North\n",
        "ga('set lev 500')#     sets level to 500 mb\n",
        "ga('set t 1')   #      sets time to first time step\n",
        "hgt=ga.exp('hgt')  #         take a variable called 'hgt'"
      ],
      "execution_count": null,
      "outputs": []
    },
    {
      "cell_type": "markdown",
      "metadata": {
        "id": "H-L5vyosH1VQ"
      },
      "source": [
        "Plote em uma dimensão"
      ]
    },
    {
      "cell_type": "code",
      "metadata": {
        "id": "kSy6aOVFGjNM"
      },
      "source": [
        "ga('set lon  -180 0') #   sets longitude to 90 degrees West\n",
        "hgt=ga.exp('hgt')  #         \n",
        "lons = ga.exp('lon')\n",
        "plt.figure(figsize=(10,8))\n",
        "plt.plot(lons,hgt)"
      ],
      "execution_count": null,
      "outputs": []
    },
    {
      "cell_type": "markdown",
      "metadata": {
        "id": "jBhTKLkpXG2u"
      },
      "source": [
        "Plote em duas dimensoes"
      ]
    },
    {
      "cell_type": "code",
      "metadata": {
        "id": "j9faPiGVHv1h"
      },
      "source": [
        "\n",
        "%matplotlib inline\n",
        "ga('set lat 0 90')\n",
        "ga('set lon 0 360')\n",
        "ga('set lev 500')\n",
        "lons = ga.exp('lon')\n",
        "lats = ga.exp('lat')\n",
        "hgt=ga.exp('hgt')  #  \n",
        "from matplotlib import pyplot as plt\n",
        "plt.figure(figsize=(10,8))\n",
        "ax=plt.axes(projection=ccrs.PlateCarree()) # set a projeção\n",
        "#plot o mapa das linhas de costa.\n",
        "ax.coastlines(color='k')\n",
        "plt.contourf(lons, lats, hgt)\n"
      ],
      "execution_count": null,
      "outputs": []
    },
    {
      "cell_type": "markdown",
      "metadata": {
        "id": "Vqy6WuP2XNCM"
      },
      "source": [
        "Plote uma animação do geopotencial em 500 hPa e salve em aquivos separados"
      ]
    },
    {
      "cell_type": "code",
      "metadata": {
        "id": "T5F5lOiEKoLV"
      },
      "source": [
        "for t in range(5):\n",
        "  cmd='set t '+str(t+1) # Aqui é feita uma concatenação de um string e uma variavel inteira \n",
        "  ga(cmd) # e correponde ao 'set t ' t\n",
        "  hgt=ga.exp('hgt') \n",
        "  plt.figure(figsize=(10,8))\n",
        "  ax=plt.axes(projection=ccrs.PlateCarree()) # set a projeção\n",
        "  #plot o mapa das linhas de costa. \n",
        "  ax.coastlines(color='k')\n",
        "  plt.contourf(lons, lats,hgt ,cmap='RdGy',linewidths=2)\n",
        "  \n",
        "  plt.title('Altura do geopotencial (m)  em 500 hPa no tempo='+str(t))\n",
        "  file='altura_do_geoptencial_500_t'+str(t)+'.png'\n",
        "  plt.savefig(file)  "
      ],
      "execution_count": null,
      "outputs": []
    },
    {
      "cell_type": "code",
      "metadata": {
        "id": "EVLMj5JgLMU9"
      },
      "source": [
        "!apt install imagemagick"
      ],
      "execution_count": null,
      "outputs": []
    },
    {
      "cell_type": "code",
      "metadata": {
        "id": "dJifqugdY1CX"
      },
      "source": [
        "!convert  -delay 20 altura*.png movie.gif"
      ],
      "execution_count": null,
      "outputs": []
    },
    {
      "cell_type": "markdown",
      "source": [
        "Faça o mesmo para o vento em 200 hPa "
      ],
      "metadata": {
        "id": "7i5Udh9s-EAG"
      }
    },
    {
      "cell_type": "code",
      "source": [
        "ga('set lev 200')\n",
        "for t in range(5):\n",
        "  cmd='set t '+str(t+1) # Aqui é feita uma concatenação de um string e uma variavel inteira \n",
        "  ga(cmd) # e correponde ao 'set t ' t\n",
        "  hgt=ga.exp('mag(u,v)') \n",
        "  plt.figure(figsize=(10,8))\n",
        "  ax=plt.axes(projection=ccrs.PlateCarree()) # set a projeção\n",
        "  #plot o mapa das linhas de costa. \n",
        "  ax.coastlines(color='k')\n",
        "  plt.contourf(lons, lats,hgt ,cmap='jet',linewidths=2)\n",
        "  plt.title('Altura do geopotencial (m)  em 500 hPa no tempo='+str(t))\n",
        "  file='vento_em_200_t'+str(t)+'.png'\n",
        "  plt.savefig(file)  "
      ],
      "metadata": {
        "id": "OLUUAd4YOKfj"
      },
      "execution_count": null,
      "outputs": []
    },
    {
      "cell_type": "code",
      "source": [
        "!convert  -delay 20 altura*.png v200.gif"
      ],
      "metadata": {
        "id": "1Fr-wjimPA0N"
      },
      "execution_count": null,
      "outputs": []
    }
  ]
}